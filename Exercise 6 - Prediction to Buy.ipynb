{
 "cells": [
  {
   "cell_type": "markdown",
   "id": "ff766fe4",
   "metadata": {},
   "source": [
    "Predicting Customer Propensity to Buy\n",
    "In this example we'll use clicks on a website (the data from clicks) when someone is browsing to predict their propensity to buy the product."
   ]
  },
  {
   "cell_type": "code",
   "execution_count": 2,
   "id": "c37537f8",
   "metadata": {},
   "outputs": [],
   "source": [
    "import pandas as pd\n",
    "import numpy as np\n",
    "import matplotlib.pylab as plt\n",
    "import seaborn as sn\n",
    "\n",
    "from sklearn.model_selection import train_test_split\n",
    "from sklearn.tree import DecisionTreeClassifier\n",
    "from sklearn.metrics import classification_report\n",
    "import sklearn.metrics\n",
    "\n",
    "pd.set_option('display.float_format', lambda x: '%.5f' % x)"
   ]
  },
  {
   "cell_type": "code",
   "execution_count": 3,
   "id": "384ea9cb",
   "metadata": {},
   "outputs": [
    {
     "data": {
      "text/html": [
       "<div>\n",
       "<style scoped>\n",
       "    .dataframe tbody tr th:only-of-type {\n",
       "        vertical-align: middle;\n",
       "    }\n",
       "\n",
       "    .dataframe tbody tr th {\n",
       "        vertical-align: top;\n",
       "    }\n",
       "\n",
       "    .dataframe thead th {\n",
       "        text-align: right;\n",
       "    }\n",
       "</style>\n",
       "<table border=\"1\" class=\"dataframe\">\n",
       "  <thead>\n",
       "    <tr style=\"text-align: right;\">\n",
       "      <th></th>\n",
       "      <th>SESSION_ID</th>\n",
       "      <th>IMAGES</th>\n",
       "      <th>REVIEWS</th>\n",
       "      <th>FAQ</th>\n",
       "      <th>SPECS</th>\n",
       "      <th>SHIPPING</th>\n",
       "      <th>BOUGHT_TOGETHER</th>\n",
       "      <th>COMPARE_SIMILAR</th>\n",
       "      <th>VIEW_SIMILAR</th>\n",
       "      <th>WARRANTY</th>\n",
       "      <th>SPONSORED_LINKS</th>\n",
       "      <th>BUY</th>\n",
       "    </tr>\n",
       "  </thead>\n",
       "  <tbody>\n",
       "    <tr>\n",
       "      <th>0</th>\n",
       "      <td>1001</td>\n",
       "      <td>0</td>\n",
       "      <td>0</td>\n",
       "      <td>1</td>\n",
       "      <td>0</td>\n",
       "      <td>1</td>\n",
       "      <td>0</td>\n",
       "      <td>0</td>\n",
       "      <td>0</td>\n",
       "      <td>1</td>\n",
       "      <td>0</td>\n",
       "      <td>0</td>\n",
       "    </tr>\n",
       "    <tr>\n",
       "      <th>1</th>\n",
       "      <td>1002</td>\n",
       "      <td>0</td>\n",
       "      <td>1</td>\n",
       "      <td>1</td>\n",
       "      <td>0</td>\n",
       "      <td>0</td>\n",
       "      <td>0</td>\n",
       "      <td>0</td>\n",
       "      <td>0</td>\n",
       "      <td>0</td>\n",
       "      <td>1</td>\n",
       "      <td>0</td>\n",
       "    </tr>\n",
       "    <tr>\n",
       "      <th>2</th>\n",
       "      <td>1003</td>\n",
       "      <td>1</td>\n",
       "      <td>0</td>\n",
       "      <td>1</td>\n",
       "      <td>1</td>\n",
       "      <td>1</td>\n",
       "      <td>0</td>\n",
       "      <td>0</td>\n",
       "      <td>0</td>\n",
       "      <td>1</td>\n",
       "      <td>0</td>\n",
       "      <td>0</td>\n",
       "    </tr>\n",
       "  </tbody>\n",
       "</table>\n",
       "</div>"
      ],
      "text/plain": [
       "   SESSION_ID  IMAGES  REVIEWS  FAQ  SPECS  SHIPPING  BOUGHT_TOGETHER  \\\n",
       "0        1001       0        0    1      0         1                0   \n",
       "1        1002       0        1    1      0         0                0   \n",
       "2        1003       1        0    1      1         1                0   \n",
       "\n",
       "   COMPARE_SIMILAR  VIEW_SIMILAR  WARRANTY  SPONSORED_LINKS  BUY  \n",
       "0                0             0         1                0    0  \n",
       "1                0             0         0                1    0  \n",
       "2                0             0         1                0    0  "
      ]
     },
     "execution_count": 3,
     "metadata": {},
     "output_type": "execute_result"
    }
   ],
   "source": [
    "prospect_data = pd.read_csv('browsing.csv')\n",
    "prospect_data.head(3)"
   ]
  },
  {
   "cell_type": "code",
   "execution_count": 4,
   "id": "e8163ee4",
   "metadata": {},
   "outputs": [
    {
     "data": {
      "text/plain": [
       "SESSION_ID         int64\n",
       "IMAGES             int64\n",
       "REVIEWS            int64\n",
       "FAQ                int64\n",
       "SPECS              int64\n",
       "SHIPPING           int64\n",
       "BOUGHT_TOGETHER    int64\n",
       "COMPARE_SIMILAR    int64\n",
       "VIEW_SIMILAR       int64\n",
       "WARRANTY           int64\n",
       "SPONSORED_LINKS    int64\n",
       "BUY                int64\n",
       "dtype: object"
      ]
     },
     "execution_count": 4,
     "metadata": {},
     "output_type": "execute_result"
    }
   ],
   "source": [
    "prospect_data.dtypes"
   ]
  },
  {
   "cell_type": "code",
   "execution_count": 5,
   "id": "d540efd6",
   "metadata": {},
   "outputs": [
    {
     "data": {
      "text/html": [
       "<div>\n",
       "<style scoped>\n",
       "    .dataframe tbody tr th:only-of-type {\n",
       "        vertical-align: middle;\n",
       "    }\n",
       "\n",
       "    .dataframe tbody tr th {\n",
       "        vertical-align: top;\n",
       "    }\n",
       "\n",
       "    .dataframe thead th {\n",
       "        text-align: right;\n",
       "    }\n",
       "</style>\n",
       "<table border=\"1\" class=\"dataframe\">\n",
       "  <thead>\n",
       "    <tr style=\"text-align: right;\">\n",
       "      <th></th>\n",
       "      <th>SESSION_ID</th>\n",
       "      <th>IMAGES</th>\n",
       "      <th>REVIEWS</th>\n",
       "      <th>FAQ</th>\n",
       "      <th>SPECS</th>\n",
       "      <th>SHIPPING</th>\n",
       "      <th>BOUGHT_TOGETHER</th>\n",
       "      <th>COMPARE_SIMILAR</th>\n",
       "      <th>VIEW_SIMILAR</th>\n",
       "      <th>WARRANTY</th>\n",
       "      <th>SPONSORED_LINKS</th>\n",
       "      <th>BUY</th>\n",
       "    </tr>\n",
       "  </thead>\n",
       "  <tbody>\n",
       "    <tr>\n",
       "      <th>count</th>\n",
       "      <td>500.00000</td>\n",
       "      <td>500.00000</td>\n",
       "      <td>500.00000</td>\n",
       "      <td>500.00000</td>\n",
       "      <td>500.00000</td>\n",
       "      <td>500.00000</td>\n",
       "      <td>500.00000</td>\n",
       "      <td>500.00000</td>\n",
       "      <td>500.00000</td>\n",
       "      <td>500.00000</td>\n",
       "      <td>500.00000</td>\n",
       "      <td>500.00000</td>\n",
       "    </tr>\n",
       "    <tr>\n",
       "      <th>mean</th>\n",
       "      <td>1250.50000</td>\n",
       "      <td>0.51000</td>\n",
       "      <td>0.52000</td>\n",
       "      <td>0.44000</td>\n",
       "      <td>0.48000</td>\n",
       "      <td>0.52800</td>\n",
       "      <td>0.50000</td>\n",
       "      <td>0.58000</td>\n",
       "      <td>0.46800</td>\n",
       "      <td>0.53200</td>\n",
       "      <td>0.55000</td>\n",
       "      <td>0.37000</td>\n",
       "    </tr>\n",
       "    <tr>\n",
       "      <th>std</th>\n",
       "      <td>144.48183</td>\n",
       "      <td>0.50040</td>\n",
       "      <td>0.50010</td>\n",
       "      <td>0.49688</td>\n",
       "      <td>0.50010</td>\n",
       "      <td>0.49972</td>\n",
       "      <td>0.50050</td>\n",
       "      <td>0.49405</td>\n",
       "      <td>0.49947</td>\n",
       "      <td>0.49947</td>\n",
       "      <td>0.49799</td>\n",
       "      <td>0.48329</td>\n",
       "    </tr>\n",
       "    <tr>\n",
       "      <th>min</th>\n",
       "      <td>1001.00000</td>\n",
       "      <td>0.00000</td>\n",
       "      <td>0.00000</td>\n",
       "      <td>0.00000</td>\n",
       "      <td>0.00000</td>\n",
       "      <td>0.00000</td>\n",
       "      <td>0.00000</td>\n",
       "      <td>0.00000</td>\n",
       "      <td>0.00000</td>\n",
       "      <td>0.00000</td>\n",
       "      <td>0.00000</td>\n",
       "      <td>0.00000</td>\n",
       "    </tr>\n",
       "    <tr>\n",
       "      <th>25%</th>\n",
       "      <td>1125.75000</td>\n",
       "      <td>0.00000</td>\n",
       "      <td>0.00000</td>\n",
       "      <td>0.00000</td>\n",
       "      <td>0.00000</td>\n",
       "      <td>0.00000</td>\n",
       "      <td>0.00000</td>\n",
       "      <td>0.00000</td>\n",
       "      <td>0.00000</td>\n",
       "      <td>0.00000</td>\n",
       "      <td>0.00000</td>\n",
       "      <td>0.00000</td>\n",
       "    </tr>\n",
       "    <tr>\n",
       "      <th>50%</th>\n",
       "      <td>1250.50000</td>\n",
       "      <td>1.00000</td>\n",
       "      <td>1.00000</td>\n",
       "      <td>0.00000</td>\n",
       "      <td>0.00000</td>\n",
       "      <td>1.00000</td>\n",
       "      <td>0.50000</td>\n",
       "      <td>1.00000</td>\n",
       "      <td>0.00000</td>\n",
       "      <td>1.00000</td>\n",
       "      <td>1.00000</td>\n",
       "      <td>0.00000</td>\n",
       "    </tr>\n",
       "    <tr>\n",
       "      <th>75%</th>\n",
       "      <td>1375.25000</td>\n",
       "      <td>1.00000</td>\n",
       "      <td>1.00000</td>\n",
       "      <td>1.00000</td>\n",
       "      <td>1.00000</td>\n",
       "      <td>1.00000</td>\n",
       "      <td>1.00000</td>\n",
       "      <td>1.00000</td>\n",
       "      <td>1.00000</td>\n",
       "      <td>1.00000</td>\n",
       "      <td>1.00000</td>\n",
       "      <td>1.00000</td>\n",
       "    </tr>\n",
       "    <tr>\n",
       "      <th>max</th>\n",
       "      <td>1500.00000</td>\n",
       "      <td>1.00000</td>\n",
       "      <td>1.00000</td>\n",
       "      <td>1.00000</td>\n",
       "      <td>1.00000</td>\n",
       "      <td>1.00000</td>\n",
       "      <td>1.00000</td>\n",
       "      <td>1.00000</td>\n",
       "      <td>1.00000</td>\n",
       "      <td>1.00000</td>\n",
       "      <td>1.00000</td>\n",
       "      <td>1.00000</td>\n",
       "    </tr>\n",
       "  </tbody>\n",
       "</table>\n",
       "</div>"
      ],
      "text/plain": [
       "       SESSION_ID    IMAGES   REVIEWS       FAQ     SPECS  SHIPPING  \\\n",
       "count   500.00000 500.00000 500.00000 500.00000 500.00000 500.00000   \n",
       "mean   1250.50000   0.51000   0.52000   0.44000   0.48000   0.52800   \n",
       "std     144.48183   0.50040   0.50010   0.49688   0.50010   0.49972   \n",
       "min    1001.00000   0.00000   0.00000   0.00000   0.00000   0.00000   \n",
       "25%    1125.75000   0.00000   0.00000   0.00000   0.00000   0.00000   \n",
       "50%    1250.50000   1.00000   1.00000   0.00000   0.00000   1.00000   \n",
       "75%    1375.25000   1.00000   1.00000   1.00000   1.00000   1.00000   \n",
       "max    1500.00000   1.00000   1.00000   1.00000   1.00000   1.00000   \n",
       "\n",
       "       BOUGHT_TOGETHER  COMPARE_SIMILAR  VIEW_SIMILAR  WARRANTY  \\\n",
       "count        500.00000        500.00000     500.00000 500.00000   \n",
       "mean           0.50000          0.58000       0.46800   0.53200   \n",
       "std            0.50050          0.49405       0.49947   0.49947   \n",
       "min            0.00000          0.00000       0.00000   0.00000   \n",
       "25%            0.00000          0.00000       0.00000   0.00000   \n",
       "50%            0.50000          1.00000       0.00000   1.00000   \n",
       "75%            1.00000          1.00000       1.00000   1.00000   \n",
       "max            1.00000          1.00000       1.00000   1.00000   \n",
       "\n",
       "       SPONSORED_LINKS       BUY  \n",
       "count        500.00000 500.00000  \n",
       "mean           0.55000   0.37000  \n",
       "std            0.49799   0.48329  \n",
       "min            0.00000   0.00000  \n",
       "25%            0.00000   0.00000  \n",
       "50%            1.00000   0.00000  \n",
       "75%            1.00000   1.00000  \n",
       "max            1.00000   1.00000  "
      ]
     },
     "execution_count": 5,
     "metadata": {},
     "output_type": "execute_result"
    }
   ],
   "source": [
    "prospect_data.describe()"
   ]
  },
  {
   "cell_type": "code",
   "execution_count": 6,
   "id": "d908d018",
   "metadata": {},
   "outputs": [
    {
     "data": {
      "text/html": [
       "<div>\n",
       "<style scoped>\n",
       "    .dataframe tbody tr th:only-of-type {\n",
       "        vertical-align: middle;\n",
       "    }\n",
       "\n",
       "    .dataframe tbody tr th {\n",
       "        vertical-align: top;\n",
       "    }\n",
       "\n",
       "    .dataframe thead th {\n",
       "        text-align: right;\n",
       "    }\n",
       "</style>\n",
       "<table border=\"1\" class=\"dataframe\">\n",
       "  <thead>\n",
       "    <tr style=\"text-align: right;\">\n",
       "      <th></th>\n",
       "      <th>SESSION_ID</th>\n",
       "      <th>IMAGES</th>\n",
       "      <th>REVIEWS</th>\n",
       "      <th>FAQ</th>\n",
       "      <th>SPECS</th>\n",
       "      <th>SHIPPING</th>\n",
       "      <th>BOUGHT_TOGETHER</th>\n",
       "      <th>COMPARE_SIMILAR</th>\n",
       "      <th>VIEW_SIMILAR</th>\n",
       "      <th>WARRANTY</th>\n",
       "      <th>SPONSORED_LINKS</th>\n",
       "      <th>BUY</th>\n",
       "    </tr>\n",
       "  </thead>\n",
       "  <tbody>\n",
       "    <tr>\n",
       "      <th>SESSION_ID</th>\n",
       "      <td>1.00000</td>\n",
       "      <td>-0.04489</td>\n",
       "      <td>0.08343</td>\n",
       "      <td>-0.05223</td>\n",
       "      <td>0.04438</td>\n",
       "      <td>0.03123</td>\n",
       "      <td>0.00427</td>\n",
       "      <td>0.02973</td>\n",
       "      <td>0.00125</td>\n",
       "      <td>0.04651</td>\n",
       "      <td>0.03954</td>\n",
       "      <td>0.02668</td>\n",
       "    </tr>\n",
       "    <tr>\n",
       "      <th>IMAGES</th>\n",
       "      <td>-0.04489</td>\n",
       "      <td>1.00000</td>\n",
       "      <td>-0.10090</td>\n",
       "      <td>-0.05803</td>\n",
       "      <td>0.10090</td>\n",
       "      <td>-0.12534</td>\n",
       "      <td>-0.02000</td>\n",
       "      <td>0.09808</td>\n",
       "      <td>0.04538</td>\n",
       "      <td>0.08291</td>\n",
       "      <td>0.11862</td>\n",
       "      <td>0.04682</td>\n",
       "    </tr>\n",
       "    <tr>\n",
       "      <th>REVIEWS</th>\n",
       "      <td>0.08343</td>\n",
       "      <td>-0.10090</td>\n",
       "      <td>1.00000</td>\n",
       "      <td>-0.03548</td>\n",
       "      <td>0.12179</td>\n",
       "      <td>0.01379</td>\n",
       "      <td>-0.00000</td>\n",
       "      <td>-0.04704</td>\n",
       "      <td>-0.01348</td>\n",
       "      <td>-0.06675</td>\n",
       "      <td>0.05633</td>\n",
       "      <td>0.40463</td>\n",
       "    </tr>\n",
       "    <tr>\n",
       "      <th>FAQ</th>\n",
       "      <td>-0.05223</td>\n",
       "      <td>-0.05803</td>\n",
       "      <td>-0.03548</td>\n",
       "      <td>1.00000</td>\n",
       "      <td>-0.04516</td>\n",
       "      <td>-0.00936</td>\n",
       "      <td>-0.04029</td>\n",
       "      <td>-0.14368</td>\n",
       "      <td>-0.03198</td>\n",
       "      <td>-0.01647</td>\n",
       "      <td>-0.17008</td>\n",
       "      <td>-0.09514</td>\n",
       "    </tr>\n",
       "    <tr>\n",
       "      <th>SPECS</th>\n",
       "      <td>0.04438</td>\n",
       "      <td>0.10090</td>\n",
       "      <td>0.12179</td>\n",
       "      <td>-0.04516</td>\n",
       "      <td>1.00000</td>\n",
       "      <td>-0.10200</td>\n",
       "      <td>-0.12010</td>\n",
       "      <td>-0.15573</td>\n",
       "      <td>0.14184</td>\n",
       "      <td>0.05873</td>\n",
       "      <td>-0.13679</td>\n",
       "      <td>0.00995</td>\n",
       "    </tr>\n",
       "  </tbody>\n",
       "</table>\n",
       "</div>"
      ],
      "text/plain": [
       "            SESSION_ID   IMAGES  REVIEWS      FAQ    SPECS  SHIPPING  \\\n",
       "SESSION_ID     1.00000 -0.04489  0.08343 -0.05223  0.04438   0.03123   \n",
       "IMAGES        -0.04489  1.00000 -0.10090 -0.05803  0.10090  -0.12534   \n",
       "REVIEWS        0.08343 -0.10090  1.00000 -0.03548  0.12179   0.01379   \n",
       "FAQ           -0.05223 -0.05803 -0.03548  1.00000 -0.04516  -0.00936   \n",
       "SPECS          0.04438  0.10090  0.12179 -0.04516  1.00000  -0.10200   \n",
       "\n",
       "            BOUGHT_TOGETHER  COMPARE_SIMILAR  VIEW_SIMILAR  WARRANTY  \\\n",
       "SESSION_ID          0.00427          0.02973       0.00125   0.04651   \n",
       "IMAGES             -0.02000          0.09808       0.04538   0.08291   \n",
       "REVIEWS            -0.00000         -0.04704      -0.01348  -0.06675   \n",
       "FAQ                -0.04029         -0.14368      -0.03198  -0.01647   \n",
       "SPECS              -0.12010         -0.15573       0.14184   0.05873   \n",
       "\n",
       "            SPONSORED_LINKS      BUY  \n",
       "SESSION_ID          0.03954  0.02668  \n",
       "IMAGES              0.11862  0.04682  \n",
       "REVIEWS             0.05633  0.40463  \n",
       "FAQ                -0.17008 -0.09514  \n",
       "SPECS              -0.13679  0.00995  "
      ]
     },
     "execution_count": 6,
     "metadata": {},
     "output_type": "execute_result"
    }
   ],
   "source": [
    "prospect_data.corr().head()"
   ]
  },
  {
   "cell_type": "code",
   "execution_count": 7,
   "id": "92df2b3b",
   "metadata": {},
   "outputs": [
    {
     "data": {
      "text/plain": [
       "BUY               1.00000\n",
       "REVIEWS           0.40463\n",
       "COMPARE_SIMILAR   0.19052\n",
       "WARRANTY          0.17916\n",
       "SPONSORED_LINKS   0.11033\n",
       "IMAGES            0.04682\n",
       "SESSION_ID        0.02668\n",
       "SPECS             0.00995\n",
       "Name: BUY, dtype: float64"
      ]
     },
     "execution_count": 7,
     "metadata": {},
     "output_type": "execute_result"
    }
   ],
   "source": [
    "#To determine which columns are related to 'ORDERED' (Ordered target column & highest correlation)\n",
    "correlation = prospect_data.corr()['BUY']\n",
    "correlation.nlargest(8)"
   ]
  },
  {
   "cell_type": "code",
   "execution_count": 8,
   "id": "dd36e430",
   "metadata": {},
   "outputs": [
    {
     "data": {
      "text/plain": [
       "<AxesSubplot:>"
      ]
     },
     "execution_count": 8,
     "metadata": {},
     "output_type": "execute_result"
    },
    {
     "data": {
      "image/png": "[encoded data removed]",
      "text/plain": [
       "<Figure size 720x576 with 2 Axes>"
      ]
     },
     "metadata": {
      "needs_background": "light"
     },
     "output_type": "display_data"
    }
   ],
   "source": [
    "#to display correlations using a heatmap\n",
    "f,ax = plt.subplots(figsize=(10,8))\n",
    "corr = prospect_data.corr()\n",
    "sn.heatmap(corr,mask=np.zeros_like(corr, dtype=bool), cmap=sn.diverging_palette(-220,10,as_cmap=True), square=True, ax=ax)"
   ]
  },
  {
   "cell_type": "code",
   "execution_count": 12,
   "id": "36a3d829",
   "metadata": {},
   "outputs": [
    {
     "data": {
      "text/plain": [
       "<AxesSubplot:xlabel='SPECS', ylabel='BUY'>"
      ]
     },
     "execution_count": 12,
     "metadata": {},
     "output_type": "execute_result"
    },
    {
     "data": {
      "image/png": "[encoded data removed]",
      "text/plain": [
       "<Figure size 432x288 with 1 Axes>"
      ]
     },
     "metadata": {
      "needs_background": "light"
     },
     "output_type": "display_data"
    }
   ],
   "source": [
    "# use Seaborn regplot to show a scatterplot of highest correlated value. \n",
    "sn.regplot(x=prospect_data[\"REVIEWS\"], y=prospect_data[\"BUY\"], line_kws={\"color\": \"yellow\"})\n",
    "sn.regplot(x=prospect_data[\"COMPARE_SIMILAR\"], y=prospect_data[\"BUY\"], line_kws={\"color\": \"blue\"})\n",
    "sn.regplot(x=prospect_data[\"SPECS\"], y=prospect_data[\"BUY\"], line_kws={\"color\": \"red\"})"
   ]
  },
  {
   "cell_type": "code",
   "execution_count": 13,
   "id": "87186453",
   "metadata": {},
   "outputs": [
    {
     "data": {
      "text/html": [
       "<div>\n",
       "<style scoped>\n",
       "    .dataframe tbody tr th:only-of-type {\n",
       "        vertical-align: middle;\n",
       "    }\n",
       "\n",
       "    .dataframe tbody tr th {\n",
       "        vertical-align: top;\n",
       "    }\n",
       "\n",
       "    .dataframe thead th {\n",
       "        text-align: right;\n",
       "    }\n",
       "</style>\n",
       "<table border=\"1\" class=\"dataframe\">\n",
       "  <thead>\n",
       "    <tr style=\"text-align: right;\">\n",
       "      <th></th>\n",
       "      <th>REVIEWS</th>\n",
       "      <th>COMPARE_SIMILAR</th>\n",
       "      <th>WARRANTY</th>\n",
       "      <th>SPONSORED_LINKS</th>\n",
       "    </tr>\n",
       "  </thead>\n",
       "  <tbody>\n",
       "    <tr>\n",
       "      <th>0</th>\n",
       "      <td>0</td>\n",
       "      <td>0</td>\n",
       "      <td>1</td>\n",
       "      <td>0</td>\n",
       "    </tr>\n",
       "    <tr>\n",
       "      <th>1</th>\n",
       "      <td>1</td>\n",
       "      <td>0</td>\n",
       "      <td>0</td>\n",
       "      <td>1</td>\n",
       "    </tr>\n",
       "    <tr>\n",
       "      <th>2</th>\n",
       "      <td>0</td>\n",
       "      <td>0</td>\n",
       "      <td>1</td>\n",
       "      <td>0</td>\n",
       "    </tr>\n",
       "  </tbody>\n",
       "</table>\n",
       "</div>"
      ],
      "text/plain": [
       "   REVIEWS  COMPARE_SIMILAR  WARRANTY  SPONSORED_LINKS\n",
       "0        0                0         1                0\n",
       "1        1                0         0                1\n",
       "2        0                0         1                0"
      ]
     },
     "execution_count": 13,
     "metadata": {},
     "output_type": "execute_result"
    }
   ],
   "source": [
    "#Looking at correlations - 'Reviews','Compare_similar', 'Warranty','Sponsored Links' have medium correlation to BUY.\n",
    "predictors = prospect_data[['REVIEWS','COMPARE_SIMILAR','WARRANTY','SPONSORED_LINKS']]\n",
    "targets = prospect_data.BUY\n",
    "predictors.head(3)"
   ]
  },
  {
   "cell_type": "markdown",
   "id": "5e093109",
   "metadata": {},
   "source": [
    "# Training & Testing Split"
   ]
  },
  {
   "cell_type": "code",
   "execution_count": 17,
   "id": "40f60afb",
   "metadata": {},
   "outputs": [
    {
     "name": "stdout",
     "output_type": "stream",
     "text": [
      "Predictor - Training:  (350, 4) Predictor - Testing:  (150, 4)\n"
     ]
    }
   ],
   "source": [
    "#Construct an algorithm that can learn and make preictions in a task. \n",
    "#To train and test the data - use ratio of 70:30 (70% of the data is used to train model; 30% to test model).\n",
    "pred_train, pred_test, tar_train, tar_test = train_test_split(predictors, targets, test_size=.3)\n",
    "print('Predictor - Training: ',pred_train.shape, 'Predictor - Testing: ', pred_test.shape)"
   ]
  },
  {
   "cell_type": "code",
   "execution_count": 18,
   "id": "30597586",
   "metadata": {},
   "outputs": [
    {
     "data": {
      "text/plain": [
       "array([[78, 11],\n",
       "       [29, 32]], dtype=int64)"
      ]
     },
     "execution_count": 18,
     "metadata": {},
     "output_type": "execute_result"
    }
   ],
   "source": [
    "#Use a preexisting naive bayes classifier to create a matrix array.\n",
    "\n",
    "from sklearn.naive_bayes import GaussianNB\n",
    "classifier = GaussianNB()\n",
    "classifier = classifier.fit(pred_train, tar_train)\n",
    "predictions = classifier.predict(pred_test)\n",
    "\n",
    "sklearn.metrics.confusion_matrix(tar_test, predictions)"
   ]
  },
  {
   "cell_type": "code",
   "execution_count": 20,
   "id": "1b11e1fb",
   "metadata": {},
   "outputs": [
    {
     "data": {
      "text/plain": [
       "0.73"
      ]
     },
     "execution_count": 20,
     "metadata": {},
     "output_type": "execute_result"
    }
   ],
   "source": [
    "#To test the accuracy of the prediction (=73%)\n",
    "sklearn.metrics.accuracy_score (tar_test, predictions).round(2)"
   ]
  },
  {
   "cell_type": "code",
   "execution_count": 21,
   "id": "7c82b22b",
   "metadata": {},
   "outputs": [
    {
     "data": {
      "text/plain": [
       "0.15"
      ]
     },
     "execution_count": 21,
     "metadata": {},
     "output_type": "execute_result"
    }
   ],
   "source": [
    "#The probability that the prospect will BUY the product(=15% chance of BUYING).\n",
    "#So this is the probability when clicks on any 1 column.\n",
    "pred_prob = classifier.predict_proba(pred_test)\n",
    "pred_prob[0,1].round(2)"
   ]
  },
  {
   "cell_type": "code",
   "execution_count": 22,
   "id": "ad3dcd62",
   "metadata": {},
   "outputs": [
    {
     "name": "stdout",
     "output_type": "stream",
     "text": [
      "New visitor - propensity to buy:  [0.04277527]\n"
     ]
    },
    {
     "name": "stderr",
     "output_type": "stream",
     "text": [
      "C:\\ProgramData\\Anaconda3\\lib\\site-packages\\sklearn\\base.py:450: UserWarning: X does not have valid feature names, but GaussianNB was fitted with feature names\n",
      "  warnings.warn(\n"
     ]
    }
   ],
   "source": [
    "#Real time predictions - customer does not visit ANY of the 4 pages \n",
    "#(only 4% prediction they will BUY). The array = [reviews,compare similiar,warranty, sponsored links]\n",
    "\n",
    "no_clicks = np.array([0,0,0,0]).reshape(1,-1)\n",
    "print('New visitor - propensity to buy: ', classifier.predict_proba(no_clicks)[:,1])"
   ]
  },
  {
   "cell_type": "code",
   "execution_count": 25,
   "id": "ea28bbbe",
   "metadata": {},
   "outputs": [
    {
     "name": "stdout",
     "output_type": "stream",
     "text": [
      "New visitor - propensity to buy:  [0.25071827]\n"
     ]
    },
    {
     "name": "stderr",
     "output_type": "stream",
     "text": [
      "C:\\ProgramData\\Anaconda3\\lib\\site-packages\\sklearn\\base.py:450: UserWarning: X does not have valid feature names, but GaussianNB was fitted with feature names\n",
      "  warnings.warn(\n"
     ]
    }
   ],
   "source": [
    "#Real time predictions - customer clicks ONLY on 'Reviews' of the 4 pages. \n",
    "#(only 25% prediction they will BUY). The array = [reviews,compare similiar,warranty, sponsored links]\n",
    "\n",
    "reviews_clicked = np.array([1,0,0,0]).reshape(1,-1)\n",
    "print('New visitor - propensity to buy: ', classifier.predict_proba(reviews_clicked)[:,1])"
   ]
  },
  {
   "cell_type": "code",
   "execution_count": 29,
   "id": "fa6e3b45",
   "metadata": {},
   "outputs": [
    {
     "name": "stdout",
     "output_type": "stream",
     "text": [
      "New visitor - propensity to buy:  [0.44602294]\n"
     ]
    },
    {
     "name": "stderr",
     "output_type": "stream",
     "text": [
      "C:\\ProgramData\\Anaconda3\\lib\\site-packages\\sklearn\\base.py:450: UserWarning: X does not have valid feature names, but GaussianNB was fitted with feature names\n",
      "  warnings.warn(\n"
     ]
    }
   ],
   "source": [
    "#Clicking both 'Reviews' & 'Compare Similar' (45% of BUYING)\n",
    "review_similar = np.array([1,1,0,0]).reshape(1,-1)\n",
    "print('New visitor - propensity to buy: ', classifier.predict_proba(review_similar)[:,1])"
   ]
  },
  {
   "cell_type": "code",
   "execution_count": 31,
   "id": "e2543d95",
   "metadata": {},
   "outputs": [
    {
     "name": "stdout",
     "output_type": "stream",
     "text": [
      "New visitor - propensity to buy:  [0.67069406]\n"
     ]
    },
    {
     "name": "stderr",
     "output_type": "stream",
     "text": [
      "C:\\ProgramData\\Anaconda3\\lib\\site-packages\\sklearn\\base.py:450: UserWarning: X does not have valid feature names, but GaussianNB was fitted with feature names\n",
      "  warnings.warn(\n"
     ]
    }
   ],
   "source": [
    "#Clicking both 'Reviews' & 'Compare Similar' & Warranty'  (67% of BUYING)\n",
    "review_similar_warranty = np.array([1,1,1,0]).reshape(1,-1)\n",
    "print('New visitor - propensity to buy: ', classifier.predict_proba(review_similar_warranty)[:,1])"
   ]
  },
  {
   "cell_type": "code",
   "execution_count": 32,
   "id": "46b0f67a",
   "metadata": {},
   "outputs": [
    {
     "name": "stdout",
     "output_type": "stream",
     "text": [
      "New visitor - propensity to buy- All Clicked:  [0.76671793]\n"
     ]
    },
    {
     "name": "stderr",
     "output_type": "stream",
     "text": [
      "C:\\ProgramData\\Anaconda3\\lib\\site-packages\\sklearn\\base.py:450: UserWarning: X does not have valid feature names, but GaussianNB was fitted with feature names\n",
      "  warnings.warn(\n"
     ]
    }
   ],
   "source": [
    "#Clicking both 'Reviews' & 'Compare Similar' & Warranty' & 'LINKS' (?% of BUYING)\n",
    "all_clicked = np.array([1,1,1,1]).reshape(1,-1)\n",
    "print('New visitor - propensity to buy- All Clicked: ', classifier.predict_proba(all_clicked)[:,1])"
   ]
  },
  {
   "cell_type": "markdown",
   "id": "04b95a5e",
   "metadata": {},
   "source": [
    "# Prediction model is important because it allows the company to offer (or support) the customer based on how likely the customer is to buy - therefore prioritise 'best' customers."
   ]
  },
  {
   "cell_type": "code",
   "execution_count": null,
   "id": "57b564d8",
   "metadata": {},
   "outputs": [],
   "source": []
  }
 ],
 "metadata": {
  "kernelspec": {
   "display_name": "Python 3 (ipykernel)",
   "language": "python",
   "name": "python3"
  },
  "language_info": {
   "codemirror_mode": {
    "name": "ipython",
    "version": 3
   },
   "file_extension": ".py",
   "mimetype": "text/x-python",
   "name": "python",
   "nbconvert_exporter": "python",
   "pygments_lexer": "ipython3",
   "version": "3.9.7"
  }
 },
 "nbformat": 4,
 "nbformat_minor": 5
}
