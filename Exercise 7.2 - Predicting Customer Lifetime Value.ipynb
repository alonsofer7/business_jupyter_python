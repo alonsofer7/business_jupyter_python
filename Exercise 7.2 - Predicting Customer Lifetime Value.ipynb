{
 "cells": [
  {
   "cell_type": "markdown",
   "id": "ea20faea",
   "metadata": {},
   "source": [
    "# Predicting Customer Lifetime Value¶\n",
    "Using past purchasing history of customers to build a model that can predict the CLV for new customers"
   ]
  },
  {
   "cell_type": "code",
   "execution_count": 1,
   "id": "1028f17f",
   "metadata": {},
   "outputs": [],
   "source": [
    "import pandas as pd\n",
    "import numpy as np\n",
    "import matplotlib.pylab as plt\n",
    "import seaborn as sn\n",
    "\n",
    "from sklearn.model_selection import train_test_split\n",
    "from sklearn.linear_model import LinearRegression\n",
    "import sklearn.metrics"
   ]
  },
  {
   "cell_type": "code",
   "execution_count": 2,
   "id": "2bac8a89",
   "metadata": {},
   "outputs": [
    {
     "data": {
      "text/html": [
       "<div>\n",
       "<style scoped>\n",
       "    .dataframe tbody tr th:only-of-type {\n",
       "        vertical-align: middle;\n",
       "    }\n",
       "\n",
       "    .dataframe tbody tr th {\n",
       "        vertical-align: top;\n",
       "    }\n",
       "\n",
       "    .dataframe thead th {\n",
       "        text-align: right;\n",
       "    }\n",
       "</style>\n",
       "<table border=\"1\" class=\"dataframe\">\n",
       "  <thead>\n",
       "    <tr style=\"text-align: right;\">\n",
       "      <th></th>\n",
       "      <th>CUST_ID</th>\n",
       "      <th>New_Customer</th>\n",
       "      <th>Sep-21</th>\n",
       "      <th>Oct-21</th>\n",
       "      <th>Nov-21</th>\n",
       "      <th>Dec-21</th>\n",
       "      <th>Jan-22</th>\n",
       "      <th>Feb-22</th>\n",
       "      <th>Mar-22</th>\n",
       "      <th>Apr-22</th>\n",
       "      <th>Lifetime Value</th>\n",
       "    </tr>\n",
       "  </thead>\n",
       "  <tbody>\n",
       "    <tr>\n",
       "      <th>0</th>\n",
       "      <td>1001</td>\n",
       "      <td>Yes</td>\n",
       "      <td>2649.60</td>\n",
       "      <td>1152.0</td>\n",
       "      <td>921.6</td>\n",
       "      <td>3801.60</td>\n",
       "      <td>1382.4</td>\n",
       "      <td>1728.00</td>\n",
       "      <td>691.2</td>\n",
       "      <td>1267.20</td>\n",
       "      <td>11520</td>\n",
       "    </tr>\n",
       "    <tr>\n",
       "      <th>1</th>\n",
       "      <td>1002</td>\n",
       "      <td>No</td>\n",
       "      <td>709.55</td>\n",
       "      <td>308.5</td>\n",
       "      <td>246.8</td>\n",
       "      <td>1018.05</td>\n",
       "      <td>370.2</td>\n",
       "      <td>462.75</td>\n",
       "      <td>185.1</td>\n",
       "      <td>339.35</td>\n",
       "      <td>3085</td>\n",
       "    </tr>\n",
       "  </tbody>\n",
       "</table>\n",
       "</div>"
      ],
      "text/plain": [
       "   CUST_ID New_Customer   Sep-21  Oct-21  Nov-21   Dec-21  Jan-22   Feb-22  \\\n",
       "0     1001          Yes  2649.60  1152.0   921.6  3801.60  1382.4  1728.00   \n",
       "1     1002          No    709.55   308.5   246.8  1018.05   370.2   462.75   \n",
       "\n",
       "   Mar-22   Apr-22  Lifetime Value  \n",
       "0   691.2  1267.20           11520  \n",
       "1   185.1   339.35            3085  "
      ]
     },
     "execution_count": 2,
     "metadata": {},
     "output_type": "execute_result"
    }
   ],
   "source": [
    "raw_data = pd.read_csv(\"customer_spend.csv\")\n",
    "raw_data.head(2)"
   ]
  },
  {
   "cell_type": "code",
   "execution_count": 3,
   "id": "84a7d856",
   "metadata": {},
   "outputs": [
    {
     "data": {
      "text/plain": [
       "CUST_ID             int64\n",
       "New_Customer       object\n",
       "Sep-21            float64\n",
       "Oct-21            float64\n",
       "Nov-21            float64\n",
       "Dec-21            float64\n",
       "Jan-22            float64\n",
       "Feb-22            float64\n",
       "Mar-22            float64\n",
       "Apr-22            float64\n",
       "Lifetime Value      int64\n",
       "dtype: object"
      ]
     },
     "execution_count": 3,
     "metadata": {},
     "output_type": "execute_result"
    }
   ],
   "source": [
    "raw_data.dtypes"
   ]
  },
  {
   "cell_type": "markdown",
   "id": "178b758f",
   "metadata": {},
   "source": [
    "# Correlation Analysis"
   ]
  },
  {
   "cell_type": "code",
   "execution_count": 4,
   "id": "03ad9a9d",
   "metadata": {},
   "outputs": [
    {
     "data": {
      "text/html": [
       "<div>\n",
       "<style scoped>\n",
       "    .dataframe tbody tr th:only-of-type {\n",
       "        vertical-align: middle;\n",
       "    }\n",
       "\n",
       "    .dataframe tbody tr th {\n",
       "        vertical-align: top;\n",
       "    }\n",
       "\n",
       "    .dataframe thead th {\n",
       "        text-align: right;\n",
       "    }\n",
       "</style>\n",
       "<table border=\"1\" class=\"dataframe\">\n",
       "  <thead>\n",
       "    <tr style=\"text-align: right;\">\n",
       "      <th></th>\n",
       "      <th>New_Customer</th>\n",
       "      <th>Sep-21</th>\n",
       "      <th>Oct-21</th>\n",
       "      <th>Nov-21</th>\n",
       "      <th>Dec-21</th>\n",
       "      <th>Jan-22</th>\n",
       "      <th>Feb-22</th>\n",
       "      <th>Mar-22</th>\n",
       "      <th>Apr-22</th>\n",
       "      <th>Lifetime Value</th>\n",
       "    </tr>\n",
       "  </thead>\n",
       "  <tbody>\n",
       "    <tr>\n",
       "      <th>0</th>\n",
       "      <td>Yes</td>\n",
       "      <td>2649.60</td>\n",
       "      <td>1152.0</td>\n",
       "      <td>921.6</td>\n",
       "      <td>3801.60</td>\n",
       "      <td>1382.4</td>\n",
       "      <td>1728.00</td>\n",
       "      <td>691.2</td>\n",
       "      <td>1267.20</td>\n",
       "      <td>11520</td>\n",
       "    </tr>\n",
       "    <tr>\n",
       "      <th>1</th>\n",
       "      <td>No</td>\n",
       "      <td>709.55</td>\n",
       "      <td>308.5</td>\n",
       "      <td>246.8</td>\n",
       "      <td>1018.05</td>\n",
       "      <td>370.2</td>\n",
       "      <td>462.75</td>\n",
       "      <td>185.1</td>\n",
       "      <td>339.35</td>\n",
       "      <td>3085</td>\n",
       "    </tr>\n",
       "  </tbody>\n",
       "</table>\n",
       "</div>"
      ],
      "text/plain": [
       "  New_Customer   Sep-21  Oct-21  Nov-21   Dec-21  Jan-22   Feb-22  Mar-22  \\\n",
       "0          Yes  2649.60  1152.0   921.6  3801.60  1382.4  1728.00   691.2   \n",
       "1          No    709.55   308.5   246.8  1018.05   370.2   462.75   185.1   \n",
       "\n",
       "    Apr-22  Lifetime Value  \n",
       "0  1267.20           11520  \n",
       "1   339.35            3085  "
      ]
     },
     "execution_count": 4,
     "metadata": {},
     "output_type": "execute_result"
    }
   ],
   "source": [
    "cleaned_data = raw_data.drop(\"CUST_ID\", axis=1)\n",
    "cleaned_data.head(2)"
   ]
  },
  {
   "cell_type": "code",
   "execution_count": 5,
   "id": "d9e2ccf4",
   "metadata": {},
   "outputs": [
    {
     "ename": "KeyError",
     "evalue": "'CLV'",
     "output_type": "error",
     "traceback": [
      "\u001b[1;31m---------------------------------------------------------------------------\u001b[0m",
      "\u001b[1;31mKeyError\u001b[0m                                  Traceback (most recent call last)",
      "\u001b[1;32m~\\anaconda3\\lib\\site-packages\\pandas\\core\\indexes\\base.py\u001b[0m in \u001b[0;36mget_loc\u001b[1;34m(self, key, method, tolerance)\u001b[0m\n\u001b[0;32m   3360\u001b[0m             \u001b[1;32mtry\u001b[0m\u001b[1;33m:\u001b[0m\u001b[1;33m\u001b[0m\u001b[1;33m\u001b[0m\u001b[0m\n\u001b[1;32m-> 3361\u001b[1;33m                 \u001b[1;32mreturn\u001b[0m \u001b[0mself\u001b[0m\u001b[1;33m.\u001b[0m\u001b[0m_engine\u001b[0m\u001b[1;33m.\u001b[0m\u001b[0mget_loc\u001b[0m\u001b[1;33m(\u001b[0m\u001b[0mcasted_key\u001b[0m\u001b[1;33m)\u001b[0m\u001b[1;33m\u001b[0m\u001b[1;33m\u001b[0m\u001b[0m\n\u001b[0m\u001b[0;32m   3362\u001b[0m             \u001b[1;32mexcept\u001b[0m \u001b[0mKeyError\u001b[0m \u001b[1;32mas\u001b[0m \u001b[0merr\u001b[0m\u001b[1;33m:\u001b[0m\u001b[1;33m\u001b[0m\u001b[1;33m\u001b[0m\u001b[0m\n",
      "\u001b[1;32m~\\anaconda3\\lib\\site-packages\\pandas\\_libs\\index.pyx\u001b[0m in \u001b[0;36mpandas._libs.index.IndexEngine.get_loc\u001b[1;34m()\u001b[0m\n",
      "\u001b[1;32m~\\anaconda3\\lib\\site-packages\\pandas\\_libs\\index.pyx\u001b[0m in \u001b[0;36mpandas._libs.index.IndexEngine.get_loc\u001b[1;34m()\u001b[0m\n",
      "\u001b[1;32mpandas\\_libs\\hashtable_class_helper.pxi\u001b[0m in \u001b[0;36mpandas._libs.hashtable.PyObjectHashTable.get_item\u001b[1;34m()\u001b[0m\n",
      "\u001b[1;32mpandas\\_libs\\hashtable_class_helper.pxi\u001b[0m in \u001b[0;36mpandas._libs.hashtable.PyObjectHashTable.get_item\u001b[1;34m()\u001b[0m\n",
      "\u001b[1;31mKeyError\u001b[0m: 'CLV'",
      "\nThe above exception was the direct cause of the following exception:\n",
      "\u001b[1;31mKeyError\u001b[0m                                  Traceback (most recent call last)",
      "\u001b[1;32m~\\AppData\\Local\\Temp/ipykernel_29672/4123841394.py\u001b[0m in \u001b[0;36m<module>\u001b[1;34m\u001b[0m\n\u001b[0;32m      1\u001b[0m \u001b[1;31m#correlation of all columns to CLV, Show 5 Highest correlations.\u001b[0m\u001b[1;33m\u001b[0m\u001b[1;33m\u001b[0m\u001b[0m\n\u001b[1;32m----> 2\u001b[1;33m \u001b[0mcleaned_data\u001b[0m\u001b[1;33m.\u001b[0m\u001b[0mcorr\u001b[0m\u001b[1;33m(\u001b[0m\u001b[1;33m)\u001b[0m\u001b[1;33m[\u001b[0m\u001b[1;34m'CLV'\u001b[0m\u001b[1;33m]\u001b[0m\u001b[1;33m.\u001b[0m\u001b[0mnlargest\u001b[0m\u001b[1;33m(\u001b[0m\u001b[1;36m5\u001b[0m\u001b[1;33m,\u001b[0m\u001b[1;33m)\u001b[0m\u001b[1;33m\u001b[0m\u001b[1;33m\u001b[0m\u001b[0m\n\u001b[0m",
      "\u001b[1;32m~\\anaconda3\\lib\\site-packages\\pandas\\core\\frame.py\u001b[0m in \u001b[0;36m__getitem__\u001b[1;34m(self, key)\u001b[0m\n\u001b[0;32m   3456\u001b[0m             \u001b[1;32mif\u001b[0m \u001b[0mself\u001b[0m\u001b[1;33m.\u001b[0m\u001b[0mcolumns\u001b[0m\u001b[1;33m.\u001b[0m\u001b[0mnlevels\u001b[0m \u001b[1;33m>\u001b[0m \u001b[1;36m1\u001b[0m\u001b[1;33m:\u001b[0m\u001b[1;33m\u001b[0m\u001b[1;33m\u001b[0m\u001b[0m\n\u001b[0;32m   3457\u001b[0m                 \u001b[1;32mreturn\u001b[0m \u001b[0mself\u001b[0m\u001b[1;33m.\u001b[0m\u001b[0m_getitem_multilevel\u001b[0m\u001b[1;33m(\u001b[0m\u001b[0mkey\u001b[0m\u001b[1;33m)\u001b[0m\u001b[1;33m\u001b[0m\u001b[1;33m\u001b[0m\u001b[0m\n\u001b[1;32m-> 3458\u001b[1;33m             \u001b[0mindexer\u001b[0m \u001b[1;33m=\u001b[0m \u001b[0mself\u001b[0m\u001b[1;33m.\u001b[0m\u001b[0mcolumns\u001b[0m\u001b[1;33m.\u001b[0m\u001b[0mget_loc\u001b[0m\u001b[1;33m(\u001b[0m\u001b[0mkey\u001b[0m\u001b[1;33m)\u001b[0m\u001b[1;33m\u001b[0m\u001b[1;33m\u001b[0m\u001b[0m\n\u001b[0m\u001b[0;32m   3459\u001b[0m             \u001b[1;32mif\u001b[0m \u001b[0mis_integer\u001b[0m\u001b[1;33m(\u001b[0m\u001b[0mindexer\u001b[0m\u001b[1;33m)\u001b[0m\u001b[1;33m:\u001b[0m\u001b[1;33m\u001b[0m\u001b[1;33m\u001b[0m\u001b[0m\n\u001b[0;32m   3460\u001b[0m                 \u001b[0mindexer\u001b[0m \u001b[1;33m=\u001b[0m \u001b[1;33m[\u001b[0m\u001b[0mindexer\u001b[0m\u001b[1;33m]\u001b[0m\u001b[1;33m\u001b[0m\u001b[1;33m\u001b[0m\u001b[0m\n",
      "\u001b[1;32m~\\anaconda3\\lib\\site-packages\\pandas\\core\\indexes\\base.py\u001b[0m in \u001b[0;36mget_loc\u001b[1;34m(self, key, method, tolerance)\u001b[0m\n\u001b[0;32m   3361\u001b[0m                 \u001b[1;32mreturn\u001b[0m \u001b[0mself\u001b[0m\u001b[1;33m.\u001b[0m\u001b[0m_engine\u001b[0m\u001b[1;33m.\u001b[0m\u001b[0mget_loc\u001b[0m\u001b[1;33m(\u001b[0m\u001b[0mcasted_key\u001b[0m\u001b[1;33m)\u001b[0m\u001b[1;33m\u001b[0m\u001b[1;33m\u001b[0m\u001b[0m\n\u001b[0;32m   3362\u001b[0m             \u001b[1;32mexcept\u001b[0m \u001b[0mKeyError\u001b[0m \u001b[1;32mas\u001b[0m \u001b[0merr\u001b[0m\u001b[1;33m:\u001b[0m\u001b[1;33m\u001b[0m\u001b[1;33m\u001b[0m\u001b[0m\n\u001b[1;32m-> 3363\u001b[1;33m                 \u001b[1;32mraise\u001b[0m \u001b[0mKeyError\u001b[0m\u001b[1;33m(\u001b[0m\u001b[0mkey\u001b[0m\u001b[1;33m)\u001b[0m \u001b[1;32mfrom\u001b[0m \u001b[0merr\u001b[0m\u001b[1;33m\u001b[0m\u001b[1;33m\u001b[0m\u001b[0m\n\u001b[0m\u001b[0;32m   3364\u001b[0m \u001b[1;33m\u001b[0m\u001b[0m\n\u001b[0;32m   3365\u001b[0m         \u001b[1;32mif\u001b[0m \u001b[0mis_scalar\u001b[0m\u001b[1;33m(\u001b[0m\u001b[0mkey\u001b[0m\u001b[1;33m)\u001b[0m \u001b[1;32mand\u001b[0m \u001b[0misna\u001b[0m\u001b[1;33m(\u001b[0m\u001b[0mkey\u001b[0m\u001b[1;33m)\u001b[0m \u001b[1;32mand\u001b[0m \u001b[1;32mnot\u001b[0m \u001b[0mself\u001b[0m\u001b[1;33m.\u001b[0m\u001b[0mhasnans\u001b[0m\u001b[1;33m:\u001b[0m\u001b[1;33m\u001b[0m\u001b[1;33m\u001b[0m\u001b[0m\n",
      "\u001b[1;31mKeyError\u001b[0m: 'CLV'"
     ]
    }
   ],
   "source": [
    "#correlation of all columns to CLV, Show 5 Highest correlations.\n",
    "cleaned_data.corr()['CLV'].nlargest(5,)"
   ]
  },
  {
   "cell_type": "code",
   "execution_count": null,
   "id": "c1dfb244",
   "metadata": {},
   "outputs": [],
   "source": [
    "#Months are strongest correlation to the target variable (CLV).  Month 1 (73.4%), Month 5, Month 3, etc.\n",
    "#Perfect correlation = 1, so strongest relationship is the highest value in month data. \n",
    "cleaned_data.corr()['CLV'].nlargest(5,).plot()"
   ]
  },
  {
   "cell_type": "code",
   "execution_count": null,
   "id": "6fc2e108",
   "metadata": {},
   "outputs": [],
   "source": [
    "#corr = cleaned_data.corr()['CLV']\n",
    "f,ax = plt.subplots(figsize=(10,8))\n",
    "corr = cleaned_data.corr()\n",
    "sn.heatmap(corr,mask=np.zeros_like(corr, dtype=bool), cmap=sn.diverging_palette(200,110,as_cmap=True), square=True, ax=ax)"
   ]
  },
  {
   "cell_type": "code",
   "execution_count": null,
   "id": "0cd32d9e",
   "metadata": {},
   "outputs": [],
   "source": [
    "#corr = cleaned_data.corr()['CLV']\n",
    "sn.pairplot(cleaned_data[['CLV', 'MONTH_2', 'MONTH_1','MONTH_5']])\n",
    "sn.lmplot(x=\"CLV\", y=\"MONTH_1\", data=cleaned_data);"
   ]
  },
  {
   "cell_type": "code",
   "execution_count": null,
   "id": "89bf413c",
   "metadata": {},
   "outputs": [],
   "source": [
    "sn.scatterplot(data = cleaned_data, x = \"CLV\", y = \"Sep-21\")\n",
    "#plot the line of best fit for highest correlation month.\n",
    "sn.lmplot(x=\"CLV\", y=\"MONTH_1\", data=cleaned_data);\n",
    "#plot the line of Best fit for lowest correlation month.\n",
    "sn.lmplot(x=\"CLV\", y=\"MONTH_6\", data=cleaned_data);"
   ]
  },
  {
   "cell_type": "markdown",
   "id": "2bd23702",
   "metadata": {},
   "source": [
    "# Do Training & Testing Split\n",
    "To perform supervised machine learning - need to split the data into training (80%) & testing (20%) datasets."
   ]
  },
  {
   "cell_type": "code",
   "execution_count": 9,
   "id": "9f074ca3",
   "metadata": {},
   "outputs": [
    {
     "ename": "AttributeError",
     "evalue": "'DataFrame' object has no attribute 'LifetimeValue'",
     "output_type": "error",
     "traceback": [
      "\u001b[1;31m---------------------------------------------------------------------------\u001b[0m",
      "\u001b[1;31mAttributeError\u001b[0m                            Traceback (most recent call last)",
      "\u001b[1;32m~\\AppData\\Local\\Temp/ipykernel_29672/1560430030.py\u001b[0m in \u001b[0;36m<module>\u001b[1;34m\u001b[0m\n\u001b[0;32m      3\u001b[0m \u001b[1;33m\u001b[0m\u001b[0m\n\u001b[0;32m      4\u001b[0m \u001b[0mpredictors\u001b[0m \u001b[1;33m=\u001b[0m \u001b[0mcleaned_data\u001b[0m\u001b[1;33m.\u001b[0m\u001b[0mdrop\u001b[0m\u001b[1;33m(\u001b[0m\u001b[1;33m[\u001b[0m\u001b[1;34m\"Lifetime Value\"\u001b[0m\u001b[1;33m]\u001b[0m\u001b[1;33m,\u001b[0m \u001b[0maxis\u001b[0m\u001b[1;33m=\u001b[0m\u001b[1;36m1\u001b[0m\u001b[1;33m)\u001b[0m\u001b[1;33m\u001b[0m\u001b[1;33m\u001b[0m\u001b[0m\n\u001b[1;32m----> 5\u001b[1;33m \u001b[0mtargets\u001b[0m \u001b[1;33m=\u001b[0m \u001b[0mcleaned_data\u001b[0m\u001b[1;33m.\u001b[0m\u001b[0mLifetimeValue\u001b[0m\u001b[1;33m\u001b[0m\u001b[1;33m\u001b[0m\u001b[0m\n\u001b[0m\u001b[0;32m      6\u001b[0m \u001b[0mpred_train\u001b[0m\u001b[1;33m,\u001b[0m \u001b[0mpred_test\u001b[0m\u001b[1;33m,\u001b[0m \u001b[0mtar_train\u001b[0m\u001b[1;33m,\u001b[0m \u001b[0mtar_test\u001b[0m \u001b[1;33m=\u001b[0m \u001b[0mtrain_test_split\u001b[0m\u001b[1;33m(\u001b[0m\u001b[0mpredictors\u001b[0m\u001b[1;33m,\u001b[0m \u001b[0mtargets\u001b[0m\u001b[1;33m,\u001b[0m \u001b[0mtest_size\u001b[0m\u001b[1;33m=\u001b[0m\u001b[1;36m.3\u001b[0m\u001b[1;33m)\u001b[0m\u001b[1;33m\u001b[0m\u001b[1;33m\u001b[0m\u001b[0m\n\u001b[0;32m      7\u001b[0m \u001b[0mprint\u001b[0m\u001b[1;33m(\u001b[0m \u001b[1;34m\"Predictor - Training: \"\u001b[0m\u001b[1;33m,\u001b[0m \u001b[0mpred_train\u001b[0m\u001b[1;33m.\u001b[0m\u001b[0mshape\u001b[0m\u001b[1;33m,\u001b[0m \u001b[1;34m\"Predictor - testing: \"\u001b[0m\u001b[1;33m,\u001b[0m \u001b[0mpred_test\u001b[0m\u001b[1;33m.\u001b[0m\u001b[0mshape\u001b[0m\u001b[1;33m)\u001b[0m\u001b[1;33m\u001b[0m\u001b[1;33m\u001b[0m\u001b[0m\n",
      "\u001b[1;32m~\\anaconda3\\lib\\site-packages\\pandas\\core\\generic.py\u001b[0m in \u001b[0;36m__getattr__\u001b[1;34m(self, name)\u001b[0m\n\u001b[0;32m   5485\u001b[0m         ):\n\u001b[0;32m   5486\u001b[0m             \u001b[1;32mreturn\u001b[0m \u001b[0mself\u001b[0m\u001b[1;33m[\u001b[0m\u001b[0mname\u001b[0m\u001b[1;33m]\u001b[0m\u001b[1;33m\u001b[0m\u001b[1;33m\u001b[0m\u001b[0m\n\u001b[1;32m-> 5487\u001b[1;33m         \u001b[1;32mreturn\u001b[0m \u001b[0mobject\u001b[0m\u001b[1;33m.\u001b[0m\u001b[0m__getattribute__\u001b[0m\u001b[1;33m(\u001b[0m\u001b[0mself\u001b[0m\u001b[1;33m,\u001b[0m \u001b[0mname\u001b[0m\u001b[1;33m)\u001b[0m\u001b[1;33m\u001b[0m\u001b[1;33m\u001b[0m\u001b[0m\n\u001b[0m\u001b[0;32m   5488\u001b[0m \u001b[1;33m\u001b[0m\u001b[0m\n\u001b[0;32m   5489\u001b[0m     \u001b[1;32mdef\u001b[0m \u001b[0m__setattr__\u001b[0m\u001b[1;33m(\u001b[0m\u001b[0mself\u001b[0m\u001b[1;33m,\u001b[0m \u001b[0mname\u001b[0m\u001b[1;33m:\u001b[0m \u001b[0mstr\u001b[0m\u001b[1;33m,\u001b[0m \u001b[0mvalue\u001b[0m\u001b[1;33m)\u001b[0m \u001b[1;33m->\u001b[0m \u001b[1;32mNone\u001b[0m\u001b[1;33m:\u001b[0m\u001b[1;33m\u001b[0m\u001b[1;33m\u001b[0m\u001b[0m\n",
      "\u001b[1;31mAttributeError\u001b[0m: 'DataFrame' object has no attribute 'LifetimeValue'"
     ]
    }
   ],
   "source": [
    "#Need to .Drop the Target column ('CLV') as a predictor.  \n",
    "#Set Target as 'CLV' column. Training (.8) & testing (.2)\n",
    "\n",
    "predictors = cleaned_data.drop([\"Lifetime Value\"], axis=1)\n",
    "targets = cleaned_data.[\"LifetimeValue\"]\n",
    "pred_train, pred_test, tar_train, tar_test = train_test_split(predictors, targets, test_size=.2)\n",
    "print( \"Predictor - Training: \", pred_train.shape, \"Predictor - testing: \", pred_test.shape)"
   ]
  },
  {
   "cell_type": "markdown",
   "id": "f7ff5c34",
   "metadata": {},
   "source": [
    "# Build a Linear Regression equation for predicting CLV and \n",
    "then check its accuracy against the test dataset."
   ]
  },
  {
   "cell_type": "code",
   "execution_count": null,
   "id": "45985911",
   "metadata": {},
   "outputs": [],
   "source": [
    "#Build model on training data\n",
    "model = LinearRegression()\n",
    "model.fit(pred_train, tar_train)\n",
    "print(\"Coefficients: \\n\", model.coef_)\n",
    "print(\"Intercept: \", model.intercept_)\n",
    "\n",
    "\n",
    "#test on testing data\n",
    "predictions = model.predict(pred_test)\n",
    "predictions\n",
    "\n",
    "print(\"Accuracy of model:\", sklearn.metrics.r2_score(tar_test, predictions).round(2))\n",
    "#output shows the accuracy of the predicting CLV model is ?%."
   ]
  },
  {
   "cell_type": "markdown",
   "id": "82f1fd23",
   "metadata": {},
   "source": [
    "# Predicting the CLV for a new customer"
   ]
  },
  {
   "cell_type": "code",
   "execution_count": 10,
   "id": "47613f35",
   "metadata": {},
   "outputs": [
    {
     "ename": "NameError",
     "evalue": "name 'model' is not defined",
     "output_type": "error",
     "traceback": [
      "\u001b[1;31m---------------------------------------------------------------------------\u001b[0m",
      "\u001b[1;31mNameError\u001b[0m                                 Traceback (most recent call last)",
      "\u001b[1;32m~\\AppData\\Local\\Temp/ipykernel_29672/2291685058.py\u001b[0m in \u001b[0;36m<module>\u001b[1;34m\u001b[0m\n\u001b[0;32m      3\u001b[0m \u001b[1;33m\u001b[0m\u001b[0m\n\u001b[0;32m      4\u001b[0m \u001b[0mnew_data\u001b[0m \u001b[1;33m=\u001b[0m \u001b[0mnp\u001b[0m\u001b[1;33m.\u001b[0m\u001b[0marray\u001b[0m\u001b[1;33m(\u001b[0m\u001b[1;33m[\u001b[0m\u001b[1;36m100\u001b[0m\u001b[1;33m,\u001b[0m\u001b[1;36m0\u001b[0m\u001b[1;33m,\u001b[0m\u001b[1;36m0\u001b[0m\u001b[1;33m,\u001b[0m\u001b[1;36m0\u001b[0m\u001b[1;33m,\u001b[0m\u001b[1;36m0\u001b[0m\u001b[1;33m,\u001b[0m\u001b[1;36m0\u001b[0m\u001b[1;33m]\u001b[0m\u001b[1;33m)\u001b[0m\u001b[1;33m.\u001b[0m\u001b[0mreshape\u001b[0m\u001b[1;33m(\u001b[0m\u001b[1;36m1\u001b[0m\u001b[1;33m,\u001b[0m\u001b[1;33m-\u001b[0m\u001b[1;36m1\u001b[0m\u001b[1;33m)\u001b[0m\u001b[1;33m\u001b[0m\u001b[1;33m\u001b[0m\u001b[0m\n\u001b[1;32m----> 5\u001b[1;33m \u001b[0mnew_pred\u001b[0m\u001b[1;33m=\u001b[0m\u001b[0mmodel\u001b[0m\u001b[1;33m.\u001b[0m\u001b[0mpredict\u001b[0m\u001b[1;33m(\u001b[0m\u001b[0mnew_data\u001b[0m\u001b[1;33m)\u001b[0m\u001b[1;33m\u001b[0m\u001b[1;33m\u001b[0m\u001b[0m\n\u001b[0m\u001b[0;32m      6\u001b[0m \u001b[0mprint\u001b[0m\u001b[1;33m(\u001b[0m\u001b[1;34m\"The CLV for the new customer who bought only in first 3 months: €\"\u001b[0m\u001b[1;33m,\u001b[0m \u001b[0mnew_pred\u001b[0m\u001b[1;33m[\u001b[0m\u001b[1;36m0\u001b[0m\u001b[1;33m]\u001b[0m\u001b[1;33m.\u001b[0m\u001b[0mround\u001b[0m\u001b[1;33m(\u001b[0m\u001b[1;36m2\u001b[0m\u001b[1;33m)\u001b[0m\u001b[1;33m)\u001b[0m\u001b[1;33m\u001b[0m\u001b[1;33m\u001b[0m\u001b[0m\n",
      "\u001b[1;31mNameError\u001b[0m: name 'model' is not defined"
     ]
    }
   ],
   "source": [
    "#let's say new customer spends = first 6 months €100, 0, €50, €0, €0, €0.\n",
    "#Use this model to predict this customer's CLV.\n",
    "\n",
    "new_data = np.array([100,0,0,0,0,0]).reshape(1,-1)\n",
    "new_pred=model.predict(new_data)\n",
    "print(\"The CLV for the new customer who bought only in first 3-6 months: €\", new_pred[0].round(2))"
   ]
  },
  {
   "cell_type": "code",
   "execution_count": null,
   "id": "15ef9a56",
   "metadata": {},
   "outputs": [],
   "source": [
    "#customer spends 0 in months 1 to 6\n",
    "\n",
    "second_data = np.array([300,0, 0,0,0,0]).reshape(1,-1)\n",
    "second_pred=model.predict(second_data)\n",
    "print(\"The CLV for the new customer who bought only €100 in first month: €\", second_pred[0].round(2))"
   ]
  },
  {
   "cell_type": "code",
   "execution_count": null,
   "id": "742bbcf1",
   "metadata": {},
   "outputs": [],
   "source": [
    "#Customer spends 300 in months 3 to 6 only. \n",
    "new_data = np.array([0,0,300,300,300,300]).reshape(1,-1)\n",
    "new_pred=model.predict(new_data)\n",
    "print(\"The CLV for the new customer who bought only in last 3-6 months: €\", new_pred[0].round(2))"
   ]
  },
  {
   "cell_type": "code",
   "execution_count": null,
   "id": "f773ad4b",
   "metadata": {},
   "outputs": [],
   "source": [
    "#Customer spends 0 in months 1 to 6. \n",
    "new_data = np.array([0,0,0,0,0,0]).reshape(1,-1)\n",
    "new_pred=model.predict(new_data)\n",
    "print(\"The CLV for the new customer who did not buy in first 6 months: €\", new_pred[0].round(2))"
   ]
  },
  {
   "cell_type": "code",
   "execution_count": null,
   "id": "a2e0136b",
   "metadata": {},
   "outputs": [],
   "source": []
  }
 ],
 "metadata": {
  "kernelspec": {
   "display_name": "Python 3 (ipykernel)",
   "language": "python",
   "name": "python3"
  },
  "language_info": {
   "codemirror_mode": {
    "name": "ipython",
    "version": 3
   },
   "file_extension": ".py",
   "mimetype": "text/x-python",
   "name": "python",
   "nbconvert_exporter": "python",
   "pygments_lexer": "ipython3",
   "version": "3.9.7"
  }
 },
 "nbformat": 4,
 "nbformat_minor": 5
}
