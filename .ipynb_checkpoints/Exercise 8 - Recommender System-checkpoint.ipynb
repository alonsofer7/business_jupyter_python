{
 "cells": [
  {
   "cell_type": "code",
   "execution_count": 3,
   "id": "b720b854",
   "metadata": {},
   "outputs": [],
   "source": [
    "import pandas as pd\n",
    "import numpy as np"
   ]
  },
  {
   "cell_type": "code",
   "execution_count": 23,
   "id": "66420966",
   "metadata": {},
   "outputs": [
    {
     "ename": "NameError",
     "evalue": "name 'userIteamData' is not defined",
     "output_type": "error",
     "traceback": [
      "\u001b[1;31m---------------------------------------------------------------------------\u001b[0m",
      "\u001b[1;31mNameError\u001b[0m                                 Traceback (most recent call last)",
      "\u001b[1;32m~\\AppData\\Local\\Temp/ipykernel_14912/3400299897.py\u001b[0m in \u001b[0;36m<module>\u001b[1;34m\u001b[0m\n\u001b[0;32m      1\u001b[0m \u001b[0muserItemData\u001b[0m \u001b[1;33m=\u001b[0m \u001b[0mpd\u001b[0m\u001b[1;33m.\u001b[0m\u001b[0mread_csv\u001b[0m\u001b[1;33m(\u001b[0m\u001b[1;34m\"ratings.csv\"\u001b[0m\u001b[1;33m)\u001b[0m\u001b[1;33m\u001b[0m\u001b[1;33m\u001b[0m\u001b[0m\n\u001b[1;32m----> 2\u001b[1;33m \u001b[0muserIteamData\u001b[0m\u001b[1;33m.\u001b[0m\u001b[0mhead\u001b[0m\u001b[1;33m(\u001b[0m\u001b[1;33m)\u001b[0m\u001b[1;33m\u001b[0m\u001b[1;33m\u001b[0m\u001b[0m\n\u001b[0m",
      "\u001b[1;31mNameError\u001b[0m: name 'userIteamData' is not defined"
     ]
    }
   ],
   "source": [
    "userItemData = pd.read_csv(\"ratings.csv\")\n",
    "userIteamData.head()"
   ]
  },
  {
   "cell_type": "code",
   "execution_count": 14,
   "id": "e91985b6",
   "metadata": {},
   "outputs": [
    {
     "ename": "NameError",
     "evalue": "name 'userIteamData' is not defined",
     "output_type": "error",
     "traceback": [
      "\u001b[1;31m---------------------------------------------------------------------------\u001b[0m",
      "\u001b[1;31mNameError\u001b[0m                                 Traceback (most recent call last)",
      "\u001b[1;32m~\\AppData\\Local\\Temp/ipykernel_14912/677463610.py\u001b[0m in \u001b[0;36m<module>\u001b[1;34m\u001b[0m\n\u001b[1;32m----> 1\u001b[1;33m \u001b[0muserIteamData\u001b[0m\u001b[1;33m.\u001b[0m\u001b[0mdtypes\u001b[0m\u001b[1;33m\u001b[0m\u001b[1;33m\u001b[0m\u001b[0m\n\u001b[0m",
      "\u001b[1;31mNameError\u001b[0m: name 'userIteamData' is not defined"
     ]
    }
   ],
   "source": [
    "userIteamData.dtypes"
   ]
  },
  {
   "cell_type": "code",
   "execution_count": 15,
   "id": "457322d5",
   "metadata": {},
   "outputs": [
    {
     "ename": "NameError",
     "evalue": "name 'userIteamData' is not defined",
     "output_type": "error",
     "traceback": [
      "\u001b[1;31m---------------------------------------------------------------------------\u001b[0m",
      "\u001b[1;31mNameError\u001b[0m                                 Traceback (most recent call last)",
      "\u001b[1;32m~\\AppData\\Local\\Temp/ipykernel_14912/1784431089.py\u001b[0m in \u001b[0;36m<module>\u001b[1;34m\u001b[0m\n\u001b[1;32m----> 1\u001b[1;33m \u001b[0muserIteamData\u001b[0m\u001b[1;33m.\u001b[0m\u001b[0mshape\u001b[0m\u001b[1;33m\u001b[0m\u001b[1;33m\u001b[0m\u001b[0m\n\u001b[0m",
      "\u001b[1;31mNameError\u001b[0m: name 'userIteamData' is not defined"
     ]
    }
   ],
   "source": [
    "userIteamData.shape"
   ]
  },
  {
   "cell_type": "code",
   "execution_count": 17,
   "id": "bbdfc881",
   "metadata": {},
   "outputs": [
    {
     "ename": "NameError",
     "evalue": "name 'userIteamData' is not defined",
     "output_type": "error",
     "traceback": [
      "\u001b[1;31m---------------------------------------------------------------------------\u001b[0m",
      "\u001b[1;31mNameError\u001b[0m                                 Traceback (most recent call last)",
      "\u001b[1;32m~\\AppData\\Local\\Temp/ipykernel_14912/257627866.py\u001b[0m in \u001b[0;36m<module>\u001b[1;34m\u001b[0m\n\u001b[1;32m----> 1\u001b[1;33m \u001b[0muserIteamData\u001b[0m\u001b[1;33m.\u001b[0m\u001b[0mdrop\u001b[0m\u001b[1;33m(\u001b[0m\u001b[1;33m[\u001b[0m\u001b[1;34m\"Category\"\u001b[0m\u001b[1;33m,\u001b[0m \u001b[1;34m\"Salesperson\"\u001b[0m\u001b[1;33m]\u001b[0m\u001b[1;33m,\u001b[0m \u001b[0maxis\u001b[0m \u001b[1;33m=\u001b[0m \u001b[1;36m1\u001b[0m\u001b[1;33m)\u001b[0m\u001b[1;33m\u001b[0m\u001b[1;33m\u001b[0m\u001b[0m\n\u001b[0m",
      "\u001b[1;31mNameError\u001b[0m: name 'userIteamData' is not defined"
     ]
    }
   ],
   "source": [
    "userIteamData.drop([\"Category\", \"Salesperson\"], axis = 1)"
   ]
  },
  {
   "cell_type": "markdown",
   "id": "113e685b",
   "metadata": {},
   "source": [
    "# Build the Afinnity Score\n",
    "A basic algorithm to generate user / item affinity scores.\n",
    "Similar to a correlation value."
   ]
  },
  {
   "cell_type": "code",
   "execution_count": 18,
   "id": "803c3466",
   "metadata": {},
   "outputs": [
    {
     "ename": "NameError",
     "evalue": "name 'itemAffinity' is not defined",
     "output_type": "error",
     "traceback": [
      "\u001b[1;31m---------------------------------------------------------------------------\u001b[0m",
      "\u001b[1;31mNameError\u001b[0m                                 Traceback (most recent call last)",
      "\u001b[1;32m~\\AppData\\Local\\Temp/ipykernel_14912/3662519408.py\u001b[0m in \u001b[0;36m<module>\u001b[1;34m\u001b[0m\n\u001b[0;32m      2\u001b[0m \u001b[0mitemAfinity\u001b[0m\u001b[1;33m=\u001b[0m\u001b[0mpd\u001b[0m\u001b[1;33m.\u001b[0m\u001b[0mDataFrame\u001b[0m\u001b[1;33m(\u001b[0m\u001b[0mcolumns\u001b[0m\u001b[1;33m=\u001b[0m\u001b[1;33m(\u001b[0m\u001b[1;34m'item1'\u001b[0m\u001b[1;33m,\u001b[0m \u001b[1;34m'item2'\u001b[0m\u001b[1;33m,\u001b[0m \u001b[1;34m'score'\u001b[0m\u001b[1;33m)\u001b[0m\u001b[1;33m)\u001b[0m\u001b[1;33m\u001b[0m\u001b[1;33m\u001b[0m\u001b[0m\n\u001b[0;32m      3\u001b[0m \u001b[0mrowCount\u001b[0m \u001b[1;33m=\u001b[0m \u001b[1;36m0\u001b[0m\u001b[1;33m\u001b[0m\u001b[1;33m\u001b[0m\u001b[0m\n\u001b[1;32m----> 4\u001b[1;33m \u001b[0mitemAffinity\u001b[0m\u001b[1;33m\u001b[0m\u001b[1;33m\u001b[0m\u001b[0m\n\u001b[0m",
      "\u001b[1;31mNameError\u001b[0m: name 'itemAffinity' is not defined"
     ]
    }
   ],
   "source": [
    "#Create an empty dataframe to store item affinity scores for each time.\n",
    "itemAfinity=pd.DataFrame(columns=('item1', 'item2', 'score'))\n",
    "rowCount = 0\n",
    "itemAffinity"
   ]
  },
  {
   "cell_type": "code",
   "execution_count": 22,
   "id": "68d47874",
   "metadata": {},
   "outputs": [
    {
     "ename": "TypeError",
     "evalue": "'list' object is not callable",
     "output_type": "error",
     "traceback": [
      "\u001b[1;31m---------------------------------------------------------------------------\u001b[0m",
      "\u001b[1;31mTypeError\u001b[0m                                 Traceback (most recent call last)",
      "\u001b[1;32m~\\AppData\\Local\\Temp/ipykernel_14912/2317080257.py\u001b[0m in \u001b[0;36m<module>\u001b[1;34m\u001b[0m\n\u001b[0;32m      7\u001b[0m \u001b[1;33m\u001b[0m\u001b[0m\n\u001b[0;32m      8\u001b[0m \u001b[1;31m#For item 1 in the list, coompare with other items\u001b[0m\u001b[1;33m\u001b[0m\u001b[1;33m\u001b[0m\u001b[0m\n\u001b[1;32m----> 9\u001b[1;33m \u001b[1;32mfor\u001b[0m \u001b[0mind1\u001b[0m \u001b[1;32min\u001b[0m \u001b[0mrange\u001b[0m\u001b[1;33m(\u001b[0m\u001b[0mlen\u001b[0m\u001b[1;33m(\u001b[0m\u001b[0mitemList\u001b[0m\u001b[1;33m(\u001b[0m\u001b[1;33m)\u001b[0m\u001b[1;33m)\u001b[0m\u001b[1;33m)\u001b[0m\u001b[1;33m:\u001b[0m\u001b[1;33m\u001b[0m\u001b[1;33m\u001b[0m\u001b[0m\n\u001b[0m\u001b[0;32m     10\u001b[0m     \u001b[1;31m#Get list of users whot bought item 1.\u001b[0m\u001b[1;33m\u001b[0m\u001b[1;33m\u001b[0m\u001b[0m\n\u001b[0;32m     11\u001b[0m     \u001b[0mitemUsers\u001b[0m \u001b[1;33m=\u001b[0m \u001b[0muserItemData\u001b[0m\u001b[1;33m[\u001b[0m\u001b[0muserItemData\u001b[0m\u001b[1;33m.\u001b[0m\u001b[0mItemId\u001b[0m\u001b[1;33m==\u001b[0m\u001b[0mitemList\u001b[0m\u001b[1;33m[\u001b[0m\u001b[0mind1\u001b[0m\u001b[1;33m]\u001b[0m\u001b[1;33m]\u001b[0m\u001b[1;33m[\u001b[0m\u001b[1;34m\"userId\"\u001b[0m\u001b[1;33m]\u001b[0m\u001b[1;33m.\u001b[0m\u001b[0mtolist\u001b[0m\u001b[1;33m(\u001b[0m\u001b[1;33m)\u001b[0m\u001b[1;33m\u001b[0m\u001b[1;33m\u001b[0m\u001b[0m\n",
      "\u001b[1;31mTypeError\u001b[0m: 'list' object is not callable"
     ]
    }
   ],
   "source": [
    "#Get list of unique items. (.tolist) to convert an array into a list\n",
    "#with the same items.\n",
    "itemList=list(set(userItemData[\"ItemId\"].tolist()))\n",
    "\n",
    "#Get count of users\n",
    "userCount=len(set(userItemData[\"ItemId\"].tolist()))\n",
    "\n",
    "#For item 1 in the list, coompare with other items\n",
    "for ind1 in range(len(itemList())): \n",
    "    #Get list of users whot bought item 1.\n",
    "    itemUsers = userItemData[userItemData.ItemId==itemList[ind1]][\"userId\"].tolist()\n",
    "    #print(\"Item 1\", item1Users)\n",
    "                  \n",
    "    #Getitem 2 - items that are not item 1 or not included already\n",
    "    for ind2 in range (len(itemList)):\n",
    "                  \n",
    "                  if (ind1 == ind2):\n",
    "                      continue\n",
    "                  \n",
    "    #Get list of users whot bought item 2.\n",
    "    item2Users = userItemData[userItemData.ItemId==itemList[ind2]][\"userId\"].tolist()\n",
    "    print(\"Item 2\", item2Users)\n",
    "                  \n",
    "    #Find score = common list of users & divide it by total users.\n",
    "    commonUsers=len(set(itemUsers).intersection(set(item2Users)))\n",
    "    score=commonUsers / userCount\n",
    "                  \n",
    "    #Add a score for each item 1 & 2.\n",
    "    itemAffinity.loc[rowCount] = [itemList[ind1].itemList[ind2],score]\n",
    "    rowCount +=1\n",
    "\n",
    "    #Add a score for item 2, item 1. Same score applies.\n",
    "    itemAffinity.loc[rowCount] = [itemList[ind2].itemList[ind1],score]\n",
    "    rowCount +=1\n",
    "#Check final result\n",
    "itemAffinity.head()"
   ]
  },
  {
   "cell_type": "code",
   "execution_count": null,
   "id": "ac34f2e2",
   "metadata": {},
   "outputs": [],
   "source": []
  }
 ],
 "metadata": {
  "kernelspec": {
   "display_name": "Python 3 (ipykernel)",
   "language": "python",
   "name": "python3"
  },
  "language_info": {
   "codemirror_mode": {
    "name": "ipython",
    "version": 3
   },
   "file_extension": ".py",
   "mimetype": "text/x-python",
   "name": "python",
   "nbconvert_exporter": "python",
   "pygments_lexer": "ipython3",
   "version": "3.9.7"
  }
 },
 "nbformat": 4,
 "nbformat_minor": 5
}
